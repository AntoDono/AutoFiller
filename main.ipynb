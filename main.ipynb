{
 "cells": [
  {
   "cell_type": "code",
   "execution_count": 15,
   "metadata": {},
   "outputs": [],
   "source": [
    "from filler import fill_redacted_text\n",
    "import json\n",
    "import tqdm\n",
    "import time\n",
    "import pandas as pd"
   ]
  },
  {
   "cell_type": "code",
   "execution_count": 16,
   "metadata": {},
   "outputs": [
    {
     "name": "stdout",
     "output_type": "stream",
     "text": [
      "2321355\n"
     ]
    }
   ],
   "source": [
    "data = pd.read_csv(\"inputs/radiology.csv\")\n",
    "\n",
    "data.head()\n",
    "print(len(data))"
   ]
  },
  {
   "cell_type": "code",
   "execution_count": 17,
   "metadata": {},
   "outputs": [
    {
     "data": {
      "text/plain": [
       "0    EXAMINATION:  CHEST (PA AND LAT)\\n\\nINDICATION...\n",
       "1    EXAMINATION:  LIVER OR GALLBLADDER US (SINGLE ...\n",
       "2    INDICATION:  ___ HCV cirrhosis c/b ascites, hi...\n",
       "3    EXAMINATION:  Ultrasound-guided paracentesis.\\...\n",
       "4    EXAMINATION:  Paracentesis\\n\\nINDICATION:  ___...\n",
       "Name: text, dtype: object"
      ]
     },
     "execution_count": 17,
     "metadata": {},
     "output_type": "execute_result"
    }
   ],
   "source": [
    "notes = data[\"text\"]\n",
    "notes.head()"
   ]
  },
  {
   "cell_type": "code",
   "execution_count": 18,
   "metadata": {},
   "outputs": [
    {
     "data": {
      "text/plain": [
       "2247886    TYPE OF THE PROCEDURE:  Temporary pheresis lin...\n",
       "2214083    REASON FOR EXAMINATION:  Febrile neutropenia.\\...\n",
       "83637      INDICATION:  ___ man status post MVC.\\n\\nCOMPA...\n",
       "63456      REASON FOR EXAM:  ___ female with right ovaria...\n",
       "872706     HISTORY:  ___ female with history of Crohn's d...\n",
       "2274698    ADDENDUM   The pathology showed:  Renal oncocy...\n",
       "1529839    HISTORY:  ___ male status post CABG.\\n\\nCOMPAR...\n",
       "1496890    INDICATION:  Follow-up in patient with known l...\n",
       "1112409    EXAMINATION:  LUMBAR SINGLE VIEW IN OR\\n\\nINDI...\n",
       "266256     STUDY:  Right forearm, ___.\\n\\nCLINICAL HISTOR...\n",
       "Name: text, dtype: object"
      ]
     },
     "execution_count": 18,
     "metadata": {},
     "output_type": "execute_result"
    }
   ],
   "source": [
    "notes = notes.sample(10)\n",
    "notes"
   ]
  },
  {
   "cell_type": "code",
   "execution_count": 19,
   "metadata": {},
   "outputs": [
    {
     "name": "stderr",
     "output_type": "stream",
     "text": [
      " 10%|█         | 1/10 [00:02<00:25,  2.84s/it]"
     ]
    },
    {
     "name": "stdout",
     "output_type": "stream",
     "text": [
      "Error: Extra data: line 7 column 1 (char 142)\n"
     ]
    },
    {
     "name": "stderr",
     "output_type": "stream",
     "text": [
      " 50%|█████     | 5/10 [00:12<00:10,  2.06s/it]"
     ]
    },
    {
     "name": "stdout",
     "output_type": "stream",
     "text": [
      "Error: Extra data: line 7 column 1 (char 117)\n"
     ]
    },
    {
     "name": "stderr",
     "output_type": "stream",
     "text": [
      " 60%|██████    | 6/10 [00:15<00:09,  2.35s/it]"
     ]
    },
    {
     "name": "stdout",
     "output_type": "stream",
     "text": [
      "Error: Extra data: line 7 column 1 (char 108)\n"
     ]
    },
    {
     "name": "stderr",
     "output_type": "stream",
     "text": [
      "100%|██████████| 10/10 [00:21<00:00,  2.12s/it]\n"
     ]
    }
   ],
   "source": [
    "filled_data = []\n",
    "\n",
    "for note in tqdm.tqdm(notes):\n",
    "    retries = 0\n",
    "    while retries < 3:\n",
    "        try:\n",
    "            filled_data.append(fill_redacted_text(note))\n",
    "            break\n",
    "        except Exception as e:\n",
    "            retries += 1\n",
    "            print(f\"Error: {e}\")\n",
    "            time.sleep(1)\n",
    "\n",
    "json.dump(filled_data, open(\"outputs/radiology_filled.json\", \"w\"))"
   ]
  }
 ],
 "metadata": {
  "kernelspec": {
   "display_name": "venv",
   "language": "python",
   "name": "python3"
  },
  "language_info": {
   "codemirror_mode": {
    "name": "ipython",
    "version": 3
   },
   "file_extension": ".py",
   "mimetype": "text/x-python",
   "name": "python",
   "nbconvert_exporter": "python",
   "pygments_lexer": "ipython3",
   "version": "3.12.9"
  }
 },
 "nbformat": 4,
 "nbformat_minor": 2
}
