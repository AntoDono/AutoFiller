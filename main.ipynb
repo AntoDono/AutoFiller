{
 "cells": [
  {
   "cell_type": "code",
   "execution_count": 14,
   "metadata": {},
   "outputs": [],
   "source": [
    "from filler import fill_redacted_text\n",
    "import json\n",
    "import tqdm\n",
    "import time\n",
    "import pandas as pd"
   ]
  },
  {
   "cell_type": "code",
   "execution_count": 2,
   "metadata": {},
   "outputs": [
    {
     "name": "stdout",
     "output_type": "stream",
     "text": [
      "          note_id  subject_id     hadm_id note_type  note_seq  \\\n",
      "0  10000032-RR-14    10000032  22595853.0        RR        14   \n",
      "1  10000032-RR-15    10000032  22595853.0        RR        15   \n",
      "2  10000032-RR-16    10000032  22595853.0        RR        16   \n",
      "3  10000032-RR-18    10000032         NaN        RR        18   \n",
      "4  10000032-RR-20    10000032         NaN        RR        20   \n",
      "\n",
      "             charttime            storetime  \\\n",
      "0  2180-05-06 21:19:00  2180-05-06 23:32:00   \n",
      "1  2180-05-06 23:00:00  2180-05-06 23:26:00   \n",
      "2  2180-05-07 09:55:00  2180-05-07 11:15:00   \n",
      "3  2180-06-03 12:46:00  2180-06-03 14:01:00   \n",
      "4  2180-07-08 13:18:00  2180-07-08 14:15:00   \n",
      "\n",
      "                                                text  \n",
      "0  EXAMINATION:  CHEST (PA AND LAT)\\n\\nINDICATION...  \n",
      "1  EXAMINATION:  LIVER OR GALLBLADDER US (SINGLE ...  \n",
      "2  INDICATION:  ___ HCV cirrhosis c/b ascites, hi...  \n",
      "3  EXAMINATION:  Ultrasound-guided paracentesis.\\...  \n",
      "4  EXAMINATION:  Paracentesis\\n\\nINDICATION:  ___...  \n"
     ]
    }
   ],
   "source": [
    "\n",
    "data = pd.read_csv(\"inputs/radiology.csv\")\n",
    "\n",
    "print(data.head())\n",
    "\n"
   ]
  },
  {
   "cell_type": "code",
   "execution_count": 11,
   "metadata": {},
   "outputs": [
    {
     "data": {
      "text/plain": [
       "0    EXAMINATION:  CHEST (PA AND LAT)\\n\\nINDICATION...\n",
       "1    EXAMINATION:  LIVER OR GALLBLADDER US (SINGLE ...\n",
       "2    INDICATION:  ___ HCV cirrhosis c/b ascites, hi...\n",
       "3    EXAMINATION:  Ultrasound-guided paracentesis.\\...\n",
       "4    EXAMINATION:  Paracentesis\\n\\nINDICATION:  ___...\n",
       "Name: text, dtype: object"
      ]
     },
     "execution_count": 11,
     "metadata": {},
     "output_type": "execute_result"
    }
   ],
   "source": [
    "notes = data[\"text\"]\n",
    "notes.head()"
   ]
  },
  {
   "cell_type": "code",
   "execution_count": 12,
   "metadata": {},
   "outputs": [
    {
     "data": {
      "text/plain": [
       "0     EXAMINATION:  CHEST (PA AND LAT)\\n\\nINDICATION...\n",
       "1     EXAMINATION:  LIVER OR GALLBLADDER US (SINGLE ...\n",
       "2     INDICATION:  ___ HCV cirrhosis c/b ascites, hi...\n",
       "3     EXAMINATION:  Ultrasound-guided paracentesis.\\...\n",
       "4     EXAMINATION:  Paracentesis\\n\\nINDICATION:  ___...\n",
       "5     EXAMINATION:  ULTRASOUND INTERVENTIONAL PROCED...\n",
       "6     EXAMINATION:  LIVER OR GALLBLADDER US (SINGLE ...\n",
       "7     EXAMINATION:  CHEST (PA AND LAT)\\n\\nINDICATION...\n",
       "8     EXAMINATION:  Ultrasound-guided paracentesis.\\...\n",
       "9     EXAMINATION:  Ultrasound-guided paracentesis.\\...\n",
       "10    EXAMINATION:  ULTRASOUND PARACENTESIS\\n\\nINDIC...\n",
       "11    EXAMINATION:  Ultrasound-guided paracentesis.\\...\n",
       "12    EXAMINATION:  PARACENTESIS\\n\\nINDICATION:  ___...\n",
       "13    EXAMINATION:  THERAPEUTIC PARACENTESIS\\n\\nINDI...\n",
       "14    EXAMINATION:  PARACENTESIS\\n\\nINDICATION:  ___...\n",
       "15    INDICATION:  ___ year old woman with cirrhosis...\n",
       "16    EXAMINATION:  PARACENTESIS\\n\\nINDICATION:  ___...\n",
       "17    EXAMINATION:  CT HEAD W/O CONTRAST\\n\\nINDICATI...\n",
       "18    EXAMINATION:  CHEST (PORTABLE AP)\\n\\nINDICATIO...\n",
       "19    INDICATION:  ___ year old woman with cirrhosis...\n",
       "20    EXAMINATION:  LIVER OR GALLBLADDER US (SINGLE ...\n",
       "21    EXAMINATION:  PARACENTESIS/US-GUIDED\\n\\nINDICA...\n",
       "22    INDICATION:  ___ year old woman with cirrhosis...\n",
       "23    INDICATION:  ___ year old woman with cirrhosis...\n",
       "24    EXAMINATION:  CHEST (PA AND LAT)\\n\\nINDICATION...\n",
       "25    EXAMINATION:  CT HEAD W/O CONTRAST Q111 CT HEA...\n",
       "26    EXAMINATION:  CHEST (PORTABLE AP)\\n\\nINDICATIO...\n",
       "27    EXAMINATION:  CT HEAD W/O CONTRAST Q111 CT HEA...\n",
       "28    CHEST PA AND LATERAL.\\n\\nCOMPARISON:  None.\\n\\...\n",
       "29    HISTORY:  ___ male with left buccal abscess an...\n",
       "30    BILATERAL DIGITAL SCREENING MAMMOGRAM WITH CAD...\n",
       "31    INDICATION:  ___ female with right epigastric ...\n",
       "32    CLINICAL HISTORY:  Right upper quadrant pain, ...\n",
       "33    EXAMINATION:   CHEST (PA AND LAT)\\n\\nINDICATIO...\n",
       "34    EXAMINATION:   NECK SOFT TISSUES\\n\\nINDICATION...\n",
       "35    EXAMINATION:  LIVER OR GALLBLADDER US (SINGLE ...\n",
       "36    EXAMINATION:  LIVER OR GALLBLADDER US (SINGLE ...\n",
       "37    EXAMINATION:  CT HEAD W/O CONTRAST Q111 CT HEA...\n",
       "38    EXAMINATION:  Left hip radiographs, two views,...\n",
       "39    EXAMINATION:  Chest radiographs, PA and latera...\n",
       "40    EXAMINATION:  HIP NAILING IN OR W/FILMS AND FL...\n",
       "41    INDICATION:  ___ year old woman with L hip fx/...\n",
       "42    EXAMINATION:  HIP UNILAT MIN 2 VIEWS LEFT\\n\\nI...\n",
       "43    EXAMINATION:  HIP UNILAT MIN 2 VIEWS LEFT\\n\\nI...\n",
       "44    EXAMINATION:  HIP UNILAT MIN 2 VIEWS IN O.R. L...\n",
       "45    EXAMINATION:  HIP UNILAT MIN 2 VIEWS LEFT\\n\\nI...\n",
       "46    CHEST RADIOGRAPH PERFORMED.\\n\\nCOMPARISON:  No...\n",
       "47    INDICATION:  ___ female with dysfunctional ute...\n",
       "48    EXAMINATION:  CT OF THE ABDOMEN AND PELVIS\\n\\n...\n",
       "49    EXAMINATION:  CT ABD AND PELVIS WITH CONTRAST\\...\n",
       "Name: text, dtype: object"
      ]
     },
     "execution_count": 12,
     "metadata": {},
     "output_type": "execute_result"
    }
   ],
   "source": [
    "notes = notes[:50]\n",
    "notes"
   ]
  },
  {
   "cell_type": "code",
   "execution_count": 16,
   "metadata": {},
   "outputs": [
    {
     "name": "stderr",
     "output_type": "stream",
     "text": [
      "  0%|          | 0/50 [00:00<?, ?it/s]"
     ]
    },
    {
     "name": "stderr",
     "output_type": "stream",
     "text": [
      " 10%|█         | 5/50 [00:10<01:05,  1.46s/it]"
     ]
    },
    {
     "name": "stdout",
     "output_type": "stream",
     "text": [
      "Error: Invalid control character at: line 3 column 61 (char 63)\n",
      "Error: Invalid control character at: line 3 column 61 (char 63)\n",
      "Error: Invalid control character at: line 3 column 62 (char 64)\n"
     ]
    },
    {
     "name": "stderr",
     "output_type": "stream",
     "text": [
      " 54%|█████▍    | 27/50 [00:32<00:16,  1.37it/s]"
     ]
    },
    {
     "name": "stdout",
     "output_type": "stream",
     "text": [
      "Error: Invalid control character at: line 3 column 60 (char 62)\n",
      "Error: Invalid control character at: line 3 column 59 (char 61)\n"
     ]
    },
    {
     "name": "stderr",
     "output_type": "stream",
     "text": [
      " 60%|██████    | 30/50 [00:38<00:24,  1.22s/it]"
     ]
    },
    {
     "name": "stdout",
     "output_type": "stream",
     "text": [
      "Error: Extra data: line 8 column 1 (char 1142)\n"
     ]
    },
    {
     "name": "stderr",
     "output_type": "stream",
     "text": [
      " 76%|███████▌  | 38/50 [00:45<00:10,  1.13it/s]"
     ]
    },
    {
     "name": "stdout",
     "output_type": "stream",
     "text": [
      "Error: Expecting value: line 1 column 1 (char 0)\n"
     ]
    },
    {
     "name": "stderr",
     "output_type": "stream",
     "text": [
      " 84%|████████▍ | 42/50 [00:48<00:05,  1.47it/s]"
     ]
    },
    {
     "name": "stdout",
     "output_type": "stream",
     "text": [
      "Error: Invalid control character at: line 3 column 52 (char 54)\n"
     ]
    },
    {
     "name": "stderr",
     "output_type": "stream",
     "text": [
      " 96%|█████████▌| 48/50 [00:53<00:01,  1.46it/s]"
     ]
    },
    {
     "name": "stdout",
     "output_type": "stream",
     "text": [
      "Error: Extra data: line 7 column 1 (char 2202)\n",
      "Error: Extra data: line 8 column 1 (char 2203)\n",
      "Error: Extra data: line 7 column 1 (char 2202)\n"
     ]
    },
    {
     "name": "stderr",
     "output_type": "stream",
     "text": [
      "100%|██████████| 50/50 [01:02<00:00,  1.25s/it]\n"
     ]
    }
   ],
   "source": [
    "\n",
    "filled_data = []\n",
    "\n",
    "for note in tqdm.tqdm(notes):\n",
    "    retries = 0\n",
    "    while retries < 3:\n",
    "        try:\n",
    "            filled_data.append(fill_redacted_text(note))\n",
    "            break\n",
    "        except Exception as e:\n",
    "            retries += 1\n",
    "            print(f\"Error: {e}\")\n",
    "            time.sleep(1)\n",
    "\n",
    "json.dump(filled_data, open(\"outputs/radiology_filled.json\", \"w\"))"
   ]
  }
 ],
 "metadata": {
  "kernelspec": {
   "display_name": "venv",
   "language": "python",
   "name": "python3"
  },
  "language_info": {
   "codemirror_mode": {
    "name": "ipython",
    "version": 3
   },
   "file_extension": ".py",
   "mimetype": "text/x-python",
   "name": "python",
   "nbconvert_exporter": "python",
   "pygments_lexer": "ipython3",
   "version": "3.12.9"
  }
 },
 "nbformat": 4,
 "nbformat_minor": 2
}
