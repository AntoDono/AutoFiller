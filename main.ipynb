{
 "cells": [
  {
   "cell_type": "code",
   "execution_count": 1,
   "metadata": {},
   "outputs": [],
   "source": [
    "from filler import fill_redacted_text, evaluate_redacted\n",
    "import json\n",
    "import tqdm\n",
    "import time\n",
    "import pandas as pd"
   ]
  },
  {
   "cell_type": "code",
   "execution_count": 2,
   "metadata": {},
   "outputs": [
    {
     "name": "stdout",
     "output_type": "stream",
     "text": [
      "1000\n"
     ]
    }
   ],
   "source": [
    "data = pd.read_csv(\"inputs/radiology.csv\")\n",
    "\n",
    "data.head()\n",
    "print(len(data))"
   ]
  },
  {
   "cell_type": "code",
   "execution_count": 18,
   "metadata": {},
   "outputs": [
    {
     "data": {
      "text/plain": [
       "0    CT CHEST WITHOUT CONTRAST\\n\\nREASON FOR EXAM: ...\n",
       "1    MEDICAL HISTORY:  ___ woman with hemolytic ane...\n",
       "2    INDICATION:  ___ year old man with metastatic ...\n",
       "3    INDICATION:  ___ man with right-sided testicul...\n",
       "4    EXAMINATION:  CT LOWER EXT W/C LEFT\\n\\nINDICAT...\n",
       "Name: text, dtype: object"
      ]
     },
     "execution_count": 18,
     "metadata": {},
     "output_type": "execute_result"
    }
   ],
   "source": [
    "notes = data[\"text\"]\n",
    "notes.head()"
   ]
  },
  {
   "cell_type": "code",
   "execution_count": 19,
   "metadata": {},
   "outputs": [
    {
     "data": {
      "text/plain": [
       "0    CT CHEST WITHOUT CONTRAST\\n\\nREASON FOR EXAM: ...\n",
       "1    MEDICAL HISTORY:  ___ woman with hemolytic ane...\n",
       "2    INDICATION:  ___ year old man with metastatic ...\n",
       "3    INDICATION:  ___ man with right-sided testicul...\n",
       "4    EXAMINATION:  CT LOWER EXT W/C LEFT\\n\\nINDICAT...\n",
       "5    EXAMINATION:  LIVER OR GALLBLADDER US (SINGLE ...\n",
       "6    HISTORY:  Ankle pain.\\n\\nTECHNIQUE:  3 views r...\n",
       "7    INDICATION:  ___ female with tachypnea.\\n\\nTEC...\n",
       "8    INDICATION:  Tripped and fell with left mid fo...\n",
       "9    HISTORY:  Central line placement.\\n\\n___.\\n\\nF...\n",
       "Name: text, dtype: object"
      ]
     },
     "execution_count": 19,
     "metadata": {},
     "output_type": "execute_result"
    }
   ],
   "source": [
    "notes = notes[:10]\n",
    "notes"
   ]
  },
  {
   "cell_type": "code",
   "execution_count": 20,
   "metadata": {},
   "outputs": [
    {
     "name": "stderr",
     "output_type": "stream",
     "text": [
      " 50%|█████     | 5/10 [00:01<00:01,  3.33it/s]"
     ]
    },
    {
     "name": "stdout",
     "output_type": "stream",
     "text": [
      "Error: replace() argument 2 must be str, not int\n"
     ]
    },
    {
     "name": "stderr",
     "output_type": "stream",
     "text": [
      "100%|██████████| 10/10 [00:04<00:00,  2.04it/s]"
     ]
    },
    {
     "name": "stdout",
     "output_type": "stream",
     "text": [
      "Generated 10 filled notes\n"
     ]
    },
    {
     "name": "stderr",
     "output_type": "stream",
     "text": [
      "\n"
     ]
    }
   ],
   "source": [
    "filled_data = []\n",
    "total = 0\n",
    "\n",
    "for note in tqdm.tqdm(notes):\n",
    "    retries = 0\n",
    "    while retries < 3:\n",
    "        try:\n",
    "            filled_text, pii_mappings, filled_values = fill_redacted_text(note)\n",
    "            evaluate_report = evaluate_redacted(filled_text)  \n",
    "            \n",
    "            if evaluate_report[\"passed\"]:\n",
    "                    \n",
    "                filled_data.append({\n",
    "                    \"original_text\": note,\n",
    "                    \"filled_text\": filled_text,\n",
    "                    \"pii_mappings\": pii_mappings,\n",
    "                    \"filled_values\": filled_values\n",
    "                })\n",
    "                \n",
    "                total += 1\n",
    "                break\n",
    "            else:\n",
    "                print(f\"Failed to fill the note: {note}\")\n",
    "                print(evaluate_report[\"reasoning\"])\n",
    "                time.sleep(1)\n",
    "        except Exception as e:\n",
    "            retries += 1\n",
    "            print(f\"Error: {e}\")\n",
    "            time.sleep(1)\n",
    "\n",
    "json.dump(filled_data, open(\"outputs/radiology_filled.json\", \"w\"))\n",
    "print(f\"Generated {total} filled notes\")"
   ]
  },
  {
   "cell_type": "code",
   "execution_count": null,
   "metadata": {},
   "outputs": [],
   "source": []
  }
 ],
 "metadata": {
  "kernelspec": {
   "display_name": "venv",
   "language": "python",
   "name": "python3"
  },
  "language_info": {
   "codemirror_mode": {
    "name": "ipython",
    "version": 3
   },
   "file_extension": ".py",
   "mimetype": "text/x-python",
   "name": "python",
   "nbconvert_exporter": "python",
   "pygments_lexer": "ipython3",
   "version": "3.10.12"
  }
 },
 "nbformat": 4,
 "nbformat_minor": 2
}
